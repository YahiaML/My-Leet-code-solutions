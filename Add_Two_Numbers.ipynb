{
  "nbformat": 4,
  "nbformat_minor": 0,
  "metadata": {
    "colab": {
      "name": "Add Two Numbers.ipynb",
      "provenance": [],
      "authorship_tag": "ABX9TyOhGaQY7vwddDqYIg8BpwQ0",
      "include_colab_link": true
    },
    "kernelspec": {
      "name": "python3",
      "display_name": "Python 3"
    },
    "language_info": {
      "name": "python"
    }
  },
  "cells": [
    {
      "cell_type": "markdown",
      "metadata": {
        "id": "view-in-github",
        "colab_type": "text"
      },
      "source": [
        "<a href=\"https://colab.research.google.com/github/YahiaML/My-Leet-code-solutions/blob/main/Add_Two_Numbers.ipynb\" target=\"_parent\"><img src=\"https://colab.research.google.com/assets/colab-badge.svg\" alt=\"Open In Colab\"/></a>"
      ]
    },
    {
      "cell_type": "markdown",
      "source": [
        "# Working code (rejected because it doesn't work on linked lists)"
      ],
      "metadata": {
        "id": "EVc4o87HmWKE"
      }
    },
    {
      "cell_type": "code",
      "execution_count": 1,
      "metadata": {
        "colab": {
          "base_uri": "https://localhost:8080/"
        },
        "id": "EQ8Wus74mRo4",
        "outputId": "a54282e1-8fd7-4172-b2cf-b5fbdb8dae77"
      },
      "outputs": [
        {
          "output_type": "execute_result",
          "data": {
            "text/plain": [
              "[8, 9, 9, 9, 0, 0, 0, 1]"
            ]
          },
          "metadata": {},
          "execution_count": 1
        }
      ],
      "source": [
        "l1 = [9,9,9,9,9,9,9]\n",
        "l2 = [9,9,9,9]\n",
        "l1 = l1[::-1]\n",
        "l2 = l2[::-1]\n",
        "n1 = int(''.join([str(elem) for elem in l1]))\n",
        "n2 = int(''.join([str(elem) for elem in l2]))\n",
        "sum = n1+n2\n",
        "s=[int(x) for x in str(sum)]  # equal to: for x in str(sum):\n",
        "                              #             s.append(int(x))\n",
        "s = s[::-1]\n",
        "s"
      ]
    },
    {
      "cell_type": "code",
      "source": [
        ""
      ],
      "metadata": {
        "id": "SlcWx9Fqnrd2"
      },
      "execution_count": null,
      "outputs": []
    }
  ]
}