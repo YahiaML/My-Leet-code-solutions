{
  "nbformat": 4,
  "nbformat_minor": 0,
  "metadata": {
    "colab": {
      "name": "Two Sum.ipynb",
      "provenance": [],
      "authorship_tag": "ABX9TyNTTWY07s/xTR79mITi4xnJ",
      "include_colab_link": true
    },
    "kernelspec": {
      "name": "python3",
      "display_name": "Python 3"
    },
    "language_info": {
      "name": "python"
    }
  },
  "cells": [
    {
      "cell_type": "markdown",
      "metadata": {
        "id": "view-in-github",
        "colab_type": "text"
      },
      "source": [
        "<a href=\"https://colab.research.google.com/github/YahiaML/My-Leet-code-solutions/blob/main/Two_Sum.ipynb\" target=\"_parent\"><img src=\"https://colab.research.google.com/assets/colab-badge.svg\" alt=\"Open In Colab\"/></a>"
      ]
    },
    {
      "cell_type": "code",
      "execution_count": 1,
      "metadata": {
        "colab": {
          "base_uri": "https://localhost:8080/"
        },
        "id": "Z_VEADsQWEbD",
        "outputId": "a38ca527-8ca0-4efa-f50f-10c9fa043542"
      },
      "outputs": [
        {
          "output_type": "execute_result",
          "data": {
            "text/plain": [
              "[0, 1]"
            ]
          },
          "metadata": {},
          "execution_count": 1
        }
      ],
      "source": [
        "nums = [3,3]\n",
        "target = 6\n",
        "result = []\n",
        "for i in range(len(nums)):\n",
        "  for x in range(len(nums)):\n",
        "    if x != i and nums[i] + nums[x] == target and i not in result and x not in result:\n",
        "      result.append(i)\n",
        "      result.append(x)\n",
        "      \n",
        "result    \n"
      ]
    }
  ]
}