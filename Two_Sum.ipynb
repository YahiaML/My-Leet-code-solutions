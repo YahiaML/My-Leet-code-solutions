{
  "nbformat": 4,
  "nbformat_minor": 0,
  "metadata": {
    "colab": {
      "name": "Two Sum.ipynb",
      "provenance": [],
      "authorship_tag": "ABX9TyPCTdWQL+Snf83bAffz8bls",
      "include_colab_link": true
    },
    "kernelspec": {
      "name": "python3",
      "display_name": "Python 3"
    },
    "language_info": {
      "name": "python"
    }
  },
  "cells": [
    {
      "cell_type": "markdown",
      "metadata": {
        "id": "view-in-github",
        "colab_type": "text"
      },
      "source": [
        "<a href=\"https://colab.research.google.com/github/YahiaML/My-Leet-code-solutions/blob/main/Two_Sum.ipynb\" target=\"_parent\"><img src=\"https://colab.research.google.com/assets/colab-badge.svg\" alt=\"Open In Colab\"/></a>"
      ]
    },
    {
      "cell_type": "markdown",
      "source": [
        "\n",
        "Problem link: https://leetcode.com/problems/roman-to-integer/\n",
        "\n",
        "#Problem description\n",
        "\n",
        "Given an array of integers nums and an integer target, return indices of the two numbers such that they add up to target.\n",
        "\n",
        "You may assume that each input would have exactly one solution, and you may not use the same element twice.\n",
        "\n",
        "You can return the answer in any order.\n",
        "\n",
        " \n",
        "\n",
        "**Example 1:**\n",
        "\n",
        "    Input: nums = [2,7,11,15], target = 9\n",
        "    Output: [0,1]\n",
        "    Explanation: Because nums[0] + nums[1] == 9, we return [0, 1].\n",
        "\n",
        "**Example 2:**\n",
        "\n",
        "    Input: nums = [3,2,4], target = 6\n",
        "    Output: [1,2]\n",
        "\n",
        "**Example 3:**\n",
        "\n",
        "    Input: nums = [3,3], target = 6\n",
        "    Output: [0,1]\n",
        "\n",
        " \n",
        "\n",
        "**Constraints:**\n",
        "\n",
        "    2 <= nums.length <= 104\n",
        "    -109 <= nums[i] <= 109\n",
        "    -109 <= target <= 109\n",
        "    Only one valid answer exists.\n"
      ],
      "metadata": {
        "id": "D6mkExAVdswW"
      }
    },
    {
      "cell_type": "markdown",
      "source": [
        "#The accepted fastest code"
      ],
      "metadata": {
        "id": "v_SHBCVzc-4e"
      }
    },
    {
      "cell_type": "code",
      "source": [
        "nums = [3,3]\n",
        "target = 6\n",
        "result = []\n",
        "for i in range(len(nums)):\n",
        "  for x in range(len(nums)):\n",
        "    if x != i and nums[i] + nums[x] == target:\n",
        "      result.append(i),result.append(x)\n",
        "      break\n",
        "  else:\n",
        "      continue\n",
        "  break\n",
        "\n",
        "      \n",
        "result"
      ],
      "metadata": {
        "colab": {
          "base_uri": "https://localhost:8080/"
        },
        "id": "pRTaG_hcc1b1",
        "outputId": "cf1f6b64-9ab9-4adc-b4bb-9ff5d43342a6"
      },
      "execution_count": 10,
      "outputs": [
        {
          "output_type": "execute_result",
          "data": {
            "text/plain": [
              "[0, 1]"
            ]
          },
          "metadata": {},
          "execution_count": 10
        }
      ]
    },
    {
      "cell_type": "markdown",
      "source": [
        "#Accepted codes but they are slow"
      ],
      "metadata": {
        "id": "n3H9EtEDdDLD"
      }
    },
    {
      "cell_type": "code",
      "execution_count": 4,
      "metadata": {
        "colab": {
          "base_uri": "https://localhost:8080/"
        },
        "id": "Z_VEADsQWEbD",
        "outputId": "45931af4-1e65-4a12-f8d5-2b83727830b6"
      },
      "outputs": [
        {
          "output_type": "execute_result",
          "data": {
            "text/plain": [
              "[0, 1]"
            ]
          },
          "metadata": {},
          "execution_count": 4
        }
      ],
      "source": [
        "nums = [3,3]\n",
        "target = 6\n",
        "result = []\n",
        "for i in range(len(nums)):\n",
        "  for x in range(len(nums)):\n",
        "    if x != i and nums[i] + nums[x] == target and i not in result and x not in result:\n",
        "      result.append(i), result.append(x)\n",
        "      \n",
        "result    \n"
      ]
    },
    {
      "cell_type": "markdown",
      "source": [
        "#Slow versions (rejected due to exceeding time limit )"
      ],
      "metadata": {
        "id": "DNFMydsjZ5sJ"
      }
    },
    {
      "cell_type": "code",
      "source": [
        "nums = [3,3]\n",
        "target = 6\n",
        "result = [[i,x] for i in range(len(nums)) for x in range(len(nums))if x != i and nums[i] + nums[x] == target]\n",
        "      \n",
        "result[0]   \n"
      ],
      "metadata": {
        "colab": {
          "base_uri": "https://localhost:8080/"
        },
        "id": "fQS5QZdnWSaG",
        "outputId": "58b5e307-5b04-4968-8395-c8445523ce5f"
      },
      "execution_count": 9,
      "outputs": [
        {
          "output_type": "execute_result",
          "data": {
            "text/plain": [
              "[0, 1]"
            ]
          },
          "metadata": {},
          "execution_count": 9
        }
      ]
    },
    {
      "cell_type": "code",
      "source": [
        ""
      ],
      "metadata": {
        "id": "CPymixaGZ9nP"
      },
      "execution_count": null,
      "outputs": []
    }
  ]
}