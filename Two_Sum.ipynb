{
  "nbformat": 4,
  "nbformat_minor": 0,
  "metadata": {
    "colab": {
      "name": "Two Sum.ipynb",
      "provenance": [],
      "authorship_tag": "ABX9TyOa/SuvvlnXTg4g2rhH9qFs",
      "include_colab_link": true
    },
    "kernelspec": {
      "name": "python3",
      "display_name": "Python 3"
    },
    "language_info": {
      "name": "python"
    }
  },
  "cells": [
    {
      "cell_type": "markdown",
      "metadata": {
        "id": "view-in-github",
        "colab_type": "text"
      },
      "source": [
        "<a href=\"https://colab.research.google.com/github/YahiaML/My-Leet-code-solutions/blob/main/Two_Sum.ipynb\" target=\"_parent\"><img src=\"https://colab.research.google.com/assets/colab-badge.svg\" alt=\"Open In Colab\"/></a>"
      ]
    },
    {
      "cell_type": "code",
      "source": [
        "nums = [3,2,4]\n",
        "target = 6\n",
        "result = []\n",
        "for i in range(len(nums)):\n",
        "  for x in range(len(nums)):\n",
        "    if x != i and nums[i] + nums[x] == target:\n",
        "      result.append(i),result.append(x)\n",
        "      break\n",
        "  else:\n",
        "      continue\n",
        "  break\n",
        "\n",
        "      \n",
        "result"
      ],
      "metadata": {
        "id": "pRTaG_hcc1b1"
      },
      "execution_count": null,
      "outputs": []
    },
    {
      "cell_type": "code",
      "execution_count": 4,
      "metadata": {
        "colab": {
          "base_uri": "https://localhost:8080/"
        },
        "id": "Z_VEADsQWEbD",
        "outputId": "45931af4-1e65-4a12-f8d5-2b83727830b6"
      },
      "outputs": [
        {
          "output_type": "execute_result",
          "data": {
            "text/plain": [
              "[0, 1]"
            ]
          },
          "metadata": {},
          "execution_count": 4
        }
      ],
      "source": [
        "nums = [3,3]\n",
        "target = 6\n",
        "result = []\n",
        "for i in range(len(nums)):\n",
        "  for x in range(len(nums)):\n",
        "    if x != i and nums[i] + nums[x] == target and i not in result and x not in result:\n",
        "      result.append(i), result.append(x)\n",
        "      \n",
        "result    \n"
      ]
    },
    {
      "cell_type": "markdown",
      "source": [
        "Slow versions (rejected)"
      ],
      "metadata": {
        "id": "DNFMydsjZ5sJ"
      }
    },
    {
      "cell_type": "code",
      "source": [
        "nums = [3,3]\n",
        "target = 6\n",
        "result = [[i,x] for i in range(len(nums)) for x in range(len(nums))if x != i and nums[i] + nums[x] == target]\n",
        "      \n",
        "result[0]   \n"
      ],
      "metadata": {
        "colab": {
          "base_uri": "https://localhost:8080/"
        },
        "id": "fQS5QZdnWSaG",
        "outputId": "58b5e307-5b04-4968-8395-c8445523ce5f"
      },
      "execution_count": 9,
      "outputs": [
        {
          "output_type": "execute_result",
          "data": {
            "text/plain": [
              "[0, 1]"
            ]
          },
          "metadata": {},
          "execution_count": 9
        }
      ]
    },
    {
      "cell_type": "code",
      "source": [
        ""
      ],
      "metadata": {
        "id": "CPymixaGZ9nP"
      },
      "execution_count": null,
      "outputs": []
    }
  ]
}