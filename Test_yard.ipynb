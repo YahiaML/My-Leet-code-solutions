{
  "nbformat": 4,
  "nbformat_minor": 0,
  "metadata": {
    "colab": {
      "name": "Test yard.ipynb",
      "provenance": [],
      "authorship_tag": "ABX9TyPBMJcIoRKfggwNonKMOE5B",
      "include_colab_link": true
    },
    "kernelspec": {
      "name": "python3",
      "display_name": "Python 3"
    },
    "language_info": {
      "name": "python"
    }
  },
  "cells": [
    {
      "cell_type": "markdown",
      "metadata": {
        "id": "view-in-github",
        "colab_type": "text"
      },
      "source": [
        "<a href=\"https://colab.research.google.com/github/YahiaML/My-Leet-code-solutions/blob/main/Test_yard.ipynb\" target=\"_parent\"><img src=\"https://colab.research.google.com/assets/colab-badge.svg\" alt=\"Open In Colab\"/></a>"
      ]
    },
    {
      "cell_type": "code",
      "source": [
        "s = \"I apologize for the length\"\n",
        "        results = []\n",
        "        strip = \"\"\n",
        "        \n",
        "        for letter in s:\n",
        "          if letter not in strip and letter != \" \":\n",
        "            strip += letter\n",
        "          \n",
        "          elif letter in strip and letter != \" \":\n",
        "            results.append(strip)\n",
        "            strip = letter\n",
        "        \n",
        "        print(results)\n",
        "        len(max(results, key=len))"
      ],
      "metadata": {
        "colab": {
          "base_uri": "https://localhost:8080/"
        },
        "id": "HKGX152B6rGE",
        "outputId": "d6dc7cdd-39bb-4c08-856d-d142a31b5d6c"
      },
      "execution_count": 25,
      "outputs": [
        {
          "output_type": "stream",
          "name": "stdout",
          "text": [
            "['I apol', 'ogize f', 'or the']\n"
          ]
        },
        {
          "output_type": "execute_result",
          "data": {
            "text/plain": [
              "7"
            ]
          },
          "metadata": {},
          "execution_count": 25
        }
      ]
    },
    {
      "cell_type": "code",
      "source": [
        "s = \"bbbbb\"\n",
        "result, seen, strip  = [], [], \"\"\n",
        "\n",
        "for i in range(len(s)): \n",
        "\n",
        "    if s[i] in seen:      \n",
        "      result.append(strip)\n",
        "      strip = s[i]\n",
        "      seen = []\n",
        "      seen.append(s[i])\n",
        "      \n",
        "    else:\n",
        "      seen.append(s[i])\n",
        "      strip += s[i]\n",
        "     \n",
        "        \n",
        "\n",
        "print(result)\n",
        "len(max(result, key=len))"
      ],
      "metadata": {
        "colab": {
          "base_uri": "https://localhost:8080/"
        },
        "id": "nQBSX4RXtBiK",
        "outputId": "0a066d3d-0214-4e01-e984-78b66b42a3ab"
      },
      "execution_count": 5,
      "outputs": [
        {
          "output_type": "stream",
          "name": "stdout",
          "text": [
            "['b', 'b', 'b', 'b']\n"
          ]
        },
        {
          "output_type": "execute_result",
          "data": {
            "text/plain": [
              "1"
            ]
          },
          "metadata": {},
          "execution_count": 5
        }
      ]
    },
    {
      "cell_type": "code",
      "source": [
        "s = list(\"abcabcbb\")\n",
        "s"
      ],
      "metadata": {
        "colab": {
          "base_uri": "https://localhost:8080/"
        },
        "id": "Esn_Qru_tli0",
        "outputId": "a9c16116-dbda-4a10-9880-d670aa83287e"
      },
      "execution_count": null,
      "outputs": [
        {
          "output_type": "execute_result",
          "data": {
            "text/plain": [
              "['a', 'b', 'c', 'a', 'b', 'c', 'b', 'b']"
            ]
          },
          "metadata": {},
          "execution_count": 7
        }
      ]
    },
    {
      "cell_type": "markdown",
      "source": [
        "#Slow versions (rejected due to exceeding time limit )"
      ],
      "metadata": {
        "id": "4nOpcEClZ4ok"
      }
    },
    {
      "cell_type": "code",
      "source": [
        "s = \"abcabcbb\"\n",
        "result = []\n",
        "seen = []\n",
        "strip = \"\"\n",
        "for i in range(len(s)):\n",
        "\n",
        "    if s[i] in seen:      \n",
        "      result.append(strip)\n",
        "      strip = s[i]\n",
        "      \n",
        "    else:\n",
        "      seen.append(s[i])\n",
        "      strip += s[i]  \n",
        "\n",
        "print(result)\n",
        "len(max(result, key=len))"
      ],
      "metadata": {
        "colab": {
          "base_uri": "https://localhost:8080/"
        },
        "id": "vsuupKn4zkJo",
        "outputId": "898662ee-45a3-46f4-ef7e-8685a9afa9fe"
      },
      "execution_count": null,
      "outputs": [
        {
          "output_type": "stream",
          "name": "stdout",
          "text": [
            "['abc', 'a', 'b', 'c', 'b']\n"
          ]
        },
        {
          "output_type": "execute_result",
          "data": {
            "text/plain": [
              "3"
            ]
          },
          "metadata": {},
          "execution_count": 3
        }
      ]
    },
    {
      "cell_type": "code",
      "source": [
        "s = \"abcabcbb\"\n",
        "\n",
        "substring = {}\n",
        "longest = 0\n",
        "j = 0\n",
        "for i, c in enumerate(s):\n",
        "    # abcabcbba\n",
        "    if c in substring:\n",
        "        j = max(j, substring[c]+1)\n",
        "    substring[c] = i\n",
        "    longest = max(longest, i-j+1)\n",
        "\n",
        "longest"
      ],
      "metadata": {
        "colab": {
          "base_uri": "https://localhost:8080/"
        },
        "id": "DdM4y4Nh-Gbl",
        "outputId": "f8217d02-eb43-4391-e5de-6ba3191442ff"
      },
      "execution_count": 27,
      "outputs": [
        {
          "output_type": "execute_result",
          "data": {
            "text/plain": [
              "3"
            ]
          },
          "metadata": {},
          "execution_count": 27
        }
      ]
    }
  ]
}