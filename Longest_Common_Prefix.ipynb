{
  "nbformat": 4,
  "nbformat_minor": 0,
  "metadata": {
    "colab": {
      "name": "Longest Common Prefix.ipynb",
      "provenance": [],
      "collapsed_sections": [],
      "authorship_tag": "ABX9TyOdeHEjPY3dv3U1YL8iIXqu"
    },
    "kernelspec": {
      "name": "python3",
      "display_name": "Python 3"
    },
    "language_info": {
      "name": "python"
    }
  },
  "cells": [
    {
      "cell_type": "markdown",
      "source": [
        "**Problem Description**\n",
        "\n",
        "Write a function to find the longest common prefix string amongst an array of strings.\n",
        "\n",
        "If there is no common prefix, return an empty string \"\".\n",
        "\n",
        " \n",
        "\n",
        "**Example 1:**\n",
        "```\n",
        "Input: strs = [\"flower\",\"flow\",\"flight\"]\n",
        "\n",
        "Output: \"fl\"\n",
        "\n",
        "```\n",
        "\n",
        "\n",
        "**Example 2:**\n",
        "\n",
        "```\n",
        "Input: strs = [\"dog\",\"racecar\",\"car\"]\n",
        "\n",
        "Output: \"\"\n",
        "```\n",
        "Explanation: There is no common prefix among the input strings.\n",
        "\n",
        " \n",
        "\n",
        "**Constraints:**\n",
        "\n",
        "1 <= strs.length <= 200\n",
        "\n",
        "0 <= strs[i].length <= 200\n",
        "\n",
        "strs[i] consists of only lowercase English letters."
      ],
      "metadata": {
        "id": "dc_cfYswdnWi"
      }
    },
    {
      "cell_type": "markdown",
      "source": [
        "**Solution.v1**\n",
        "\n",
        "Finds the most repeated prefix  \n",
        "\n"
      ],
      "metadata": {
        "id": "no9SlzTIZVmx"
      }
    },
    {
      "cell_type": "code",
      "source": [
        "def longestCommonPrefix(strs):\n",
        "            \n",
        "    if \"\" not in strs and len(strs) > 1:\n",
        "    \n",
        "      shortest_str = min(strs, key=len)\n",
        "      count = {}\n",
        "\n",
        "      for letter in shortest_str:\n",
        "          count[letter] = 0\n",
        "          \n",
        "      index = -1\n",
        "      for word in strs:\n",
        "          continue_ = True \n",
        "          index += 1\n",
        "\n",
        "          for i in range(len(shortest_str)):\n",
        "\n",
        "              if index != strs.index(shortest_str) and word[i] == shortest_str[i] and continue_ == True:\n",
        "                  count[shortest_str[i]] += 1                  \n",
        "              else:\n",
        "                  continue_ = False\n",
        "\n",
        "      max_num_of_repetations, ans = max(count.values()),\"\"\n",
        "\n",
        "      for letter, counts in count.items(): \n",
        "\n",
        "        if max_num_of_repetations == len(strs)-1 and counts == max_num_of_repetations and max_num_of_repetations != 0:\n",
        "          ans += letter\n",
        "        \n",
        "    elif len(strs) == 1:\n",
        "        ans = strs[0]\n",
        "    \n",
        "    \n",
        "    \n",
        "    print(max_num_of_repetations)\n",
        "        \n",
        "    return ans if \"\" not in strs else \"\"\n",
        "\n",
        "longestCommonPrefix([\"aa\",\"aa\"])"
      ],
      "metadata": {
        "colab": {
          "base_uri": "https://localhost:8080/",
          "height": 53
        },
        "id": "w7XtyoGixhRy",
        "outputId": "5bd6f4c4-80c4-4ed1-d7d6-7253baf46b9c"
      },
      "execution_count": 8,
      "outputs": [
        {
          "output_type": "stream",
          "name": "stdout",
          "text": [
            "2\n"
          ]
        },
        {
          "output_type": "execute_result",
          "data": {
            "text/plain": [
              "'aa'"
            ],
            "application/vnd.google.colaboratory.intrinsic+json": {
              "type": "string"
            }
          },
          "metadata": {},
          "execution_count": 8
        }
      ]
    },
    {
      "cell_type": "code",
      "source": [
        "x = [1,2,3,4,5,6]\n",
        "\n",
        "x.index(6)"
      ],
      "metadata": {
        "colab": {
          "base_uri": "https://localhost:8080/"
        },
        "id": "w3au5VEXZv-m",
        "outputId": "256b87b5-7c2b-442d-9425-8abbf6d1fa49"
      },
      "execution_count": 4,
      "outputs": [
        {
          "output_type": "execute_result",
          "data": {
            "text/plain": [
              "5"
            ]
          },
          "metadata": {},
          "execution_count": 4
        }
      ]
    }
  ]
}