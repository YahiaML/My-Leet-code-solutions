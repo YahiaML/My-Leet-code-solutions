{
  "nbformat": 4,
  "nbformat_minor": 0,
  "metadata": {
    "colab": {
      "name": "Longest Common Prefix.ipynb",
      "provenance": [],
      "collapsed_sections": [],
      "authorship_tag": "ABX9TyPHq7HuqjyTRp4I8v8PP73i"
    },
    "kernelspec": {
      "name": "python3",
      "display_name": "Python 3"
    },
    "language_info": {
      "name": "python"
    }
  },
  "cells": [
    {
      "cell_type": "markdown",
      "source": [
        "**Problem Description**\n",
        "\n",
        "Write a function to find the longest common prefix string amongst an array of strings.\n",
        "\n",
        "If there is no common prefix, return an empty string \"\".\n",
        "\n",
        " \n",
        "\n",
        "**Example 1:**\n",
        "```\n",
        "Input: strs = [\"flower\",\"flow\",\"flight\"]\n",
        "\n",
        "Output: \"fl\"\n",
        "\n",
        "```\n",
        "\n",
        "\n",
        "**Example 2:**\n",
        "\n",
        "```\n",
        "Input: strs = [\"dog\",\"racecar\",\"car\"]\n",
        "\n",
        "Output: \"\"\n",
        "```\n",
        "Explanation: There is no common prefix among the input strings.\n",
        "\n",
        " \n",
        "\n",
        "**Constraints:**\n",
        "\n",
        "1 <= strs.length <= 200\n",
        "\n",
        "0 <= strs[i].length <= 200\n",
        "\n",
        "strs[i] consists of only lowercase English letters."
      ],
      "metadata": {
        "id": "dc_cfYswdnWi"
      }
    },
    {
      "cell_type": "markdown",
      "source": [
        "**Solution.v1**\n",
        "\n",
        "Finds the most repeated prefix  \n",
        "\n"
      ],
      "metadata": {
        "id": "no9SlzTIZVmx"
      }
    },
    {
      "cell_type": "code",
      "source": [
        "def longestCommonPrefix(strs):\n",
        "            \n",
        "    if \"\" not in strs and len(strs) > 1:\n",
        "    \n",
        "      shortest_str = min(strs, key=len)\n",
        "      count = {}\n",
        "\n",
        "      for letter in shortest_str:\n",
        "          count[letter] = 0\n",
        "          \n",
        "      index = -1\n",
        "      for word in strs:\n",
        "          continue_ = True \n",
        "          index += 1\n",
        "\n",
        "          for i in range(len(shortest_str)):\n",
        "\n",
        "              if index != strs.index(shortest_str) and word[i] == shortest_str[i] and continue_ == True:\n",
        "                  count[shortest_str[i]] += 1                  \n",
        "              else:\n",
        "                  continue_ = False\n",
        "\n",
        "      max_num_of_repetations, ans = max(count.values()),\"\"\n",
        "\n",
        "      for letter, counts in count.items(): \n",
        "\n",
        "        if max_num_of_repetations == len(strs)-1 and counts == max_num_of_repetations and max_num_of_repetations != 0:\n",
        "          ans += letter\n",
        "        \n",
        "    elif len(strs) == 1:\n",
        "        ans = strs[0]\n",
        "    \n",
        "    \n",
        "    \n",
        "    print(max_num_of_repetations)\n",
        "        \n",
        "    return ans if \"\" not in strs else \"\"\n",
        "\n",
        "longestCommonPrefix([\"flower\",\"flow\",\"flight\"])  #insert your list here"
      ],
      "metadata": {
        "id": "w7XtyoGixhRy"
      },
      "execution_count": null,
      "outputs": []
    }
  ]
}