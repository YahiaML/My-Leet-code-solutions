{
  "nbformat": 4,
  "nbformat_minor": 0,
  "metadata": {
    "colab": {
      "name": "Roman to integer solution.ipynb",
      "provenance": [],
      "authorship_tag": "ABX9TyO1jc49eMP1Wl3qWjFHTz8D",
      "include_colab_link": true
    },
    "kernelspec": {
      "name": "python3",
      "display_name": "Python 3"
    },
    "language_info": {
      "name": "python"
    }
  },
  "cells": [
    {
      "cell_type": "markdown",
      "metadata": {
        "id": "view-in-github",
        "colab_type": "text"
      },
      "source": [
        "<a href=\"https://colab.research.google.com/github/YahiaML/My-Leet-code-solutions/blob/main/Roman_to_integer_solution.ipynb\" target=\"_parent\"><img src=\"https://colab.research.google.com/assets/colab-badge.svg\" alt=\"Open In Colab\"/></a>"
      ]
    },
    {
      "cell_type": "markdown",
      "source": [
        "Problem link: https://leetcode.com/problems/roman-to-integer/"
      ],
      "metadata": {
        "id": "5LYKJZuh0fTX"
      }
    },
    {
      "cell_type": "code",
      "execution_count": null,
      "metadata": {
        "id": "foYiPHEI0enN"
      },
      "outputs": [],
      "source": [
        "#My solution_1:\n",
        "\n",
        "s= input().upper()\n",
        "\n",
        "vals= {\"I\" :1,       \n",
        "       \"V\":5,       \n",
        "       \"X\":10,       \n",
        "       \"L\":50,       \n",
        "       \"C\":100,       \n",
        "       \"D\":500,       \n",
        "       \"M\":1000,\n",
        "       \"O\":0}\n",
        "\n",
        "  \n",
        "list_s = list(s)\n",
        "sum = 0\n",
        "\n",
        "for i in range(len(list_s)):\n",
        "  val = list_s[i]\n",
        "\n",
        "  if i+1 < len(list_s) and vals[val] < vals[list_s[i+1]] and list_s[i] != \"O\" :   \n",
        "    sum += (vals[list_s[i+1]] - vals[val])\n",
        "    list_s[i+1] = \"O\"\n",
        "\n",
        "  else:\n",
        "    sum += vals[val]\n",
        "    \n",
        "print(sum)"
      ]
    },
    {
      "cell_type": "code",
      "source": [
        "# Trace the solution step by step\n",
        "\n",
        "s= input().upper()\n",
        "\n",
        "needs_convert = [\"IV\", \"IX\", \"XL\", \"XC\", \"CD\", \"CM\"]\n",
        "\n",
        "converting = {\"IV\":\"A\",\n",
        "              \"IX\":\"B\",\n",
        "              \"XL\":\"C\",\n",
        "              \"XC\":\"E\",\n",
        "              \"CD\":\"F\", \n",
        "              \"CM\":\"G\"}\n",
        "vals= {\"I\" :1,       \n",
        "       \"V\":5,       \n",
        "       \"X\":10,       \n",
        "       \"L\":50,       \n",
        "       \"C\":100,       \n",
        "       \"D\":500,       \n",
        "       \"M\":1000,\n",
        "       \"O\":0}\n",
        "\n",
        "  \n",
        "list_s = list(s)\n",
        "sum = 0\n",
        "\n",
        "for i in range(len(list_s)):\n",
        "  val = list_s[i]\n",
        "\n",
        "  if i+1 < len(list_s) :# and \n",
        "    if vals[val] < vals[list_s[i+1]] and list_s[i] != \"O\":\n",
        "      print(\"Loop_1\")    \n",
        "      sum += (vals[list_s[i+1]] - vals[val])\n",
        "      list_s[i+1] = \"O\"\n",
        "      print(\"sum\",sum,\", i+1\",vals[list_s[i+1]], \"i\", vals[val])\n",
        "      print(list_s)\n",
        "\n",
        "    else:\n",
        "      print(i,\"loop___2\")\n",
        "      sum += vals[val]\n",
        "      print(list_s)\n",
        "      print(\"sum\",sum,\", i+1\",vals[list_s[i+1]], \"i\", vals[val])\n",
        "print(sum)\n"
      ],
      "metadata": {
        "id": "V9fFzmtY1DTQ"
      },
      "execution_count": null,
      "outputs": []
    }
  ]
}