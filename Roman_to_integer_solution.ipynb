{
  "nbformat": 4,
  "nbformat_minor": 0,
  "metadata": {
    "colab": {
      "name": "Roman to integer solution.ipynb",
      "provenance": [],
      "authorship_tag": "ABX9TyP0ePbBndLhAl4t4Fs1UESu",
      "include_colab_link": true
    },
    "kernelspec": {
      "name": "python3",
      "display_name": "Python 3"
    },
    "language_info": {
      "name": "python"
    }
  },
  "cells": [
    {
      "cell_type": "markdown",
      "metadata": {
        "id": "view-in-github",
        "colab_type": "text"
      },
      "source": [
        "<a href=\"https://colab.research.google.com/github/YahiaML/My-Leet-code-solutions/blob/main/Roman_to_integer_solution.ipynb\" target=\"_parent\"><img src=\"https://colab.research.google.com/assets/colab-badge.svg\" alt=\"Open In Colab\"/></a>"
      ]
    },
    {
      "cell_type": "markdown",
      "source": [
        "Problem link: https://leetcode.com/problems/roman-to-integer/"
      ],
      "metadata": {
        "id": "5LYKJZuh0fTX"
      }
    },
    {
      "cell_type": "markdown",
      "source": [
        "#Problem description\n",
        "Roman numerals are represented by seven different symbols: I, V, X, L, C, D and M.\n",
        "\n",
        "Symbol       Value\n",
        "I             1\n",
        "V             5\n",
        "X             10\n",
        "L             50\n",
        "C             100\n",
        "D             500\n",
        "M             1000\n",
        "\n",
        "For example, 2 is written as II in Roman numeral, just two one's added together. 12 is written as XII, which is simply X + II. The number 27 is written as XXVII, which is XX + V + II.\n",
        "\n",
        "Roman numerals are usually written largest to smallest from left to right. However, the numeral for four is not IIII. Instead, the number four is written as IV. Because the one is before the five we subtract it making four. The same principle applies to the number nine, which is written as IX. There are six instances where subtraction is used:\n",
        "\n",
        "    I can be placed before V (5) and X (10) to make 4 and 9. \n",
        "    X can be placed before L (50) and C (100) to make 40 and 90. \n",
        "    C can be placed before D (500) and M (1000) to make 400 and 900.\n",
        "\n",
        "Given a roman numeral, convert it to an integer.\n",
        "\n",
        " \n",
        "\n",
        "Example 1:\n",
        "\n",
        "Input: s = \"III\"\n",
        "Output: 3\n",
        "Explanation: III = 3.\n",
        "\n",
        "Example 2:\n",
        "\n",
        "Input: s = \"LVIII\"\n",
        "Output: 58\n",
        "Explanation: L = 50, V= 5, III = 3.\n",
        "\n",
        "Example 3:\n",
        "\n",
        "Input: s = \"MCMXCIV\"\n",
        "Output: 1994\n",
        "Explanation: M = 1000, CM = 900, XC = 90 and IV = 4.\n",
        "\n",
        " \n",
        "\n",
        "Constraints:\n",
        "\n",
        "    1 <= s.length <= 15\n",
        "    s contains only the characters ('I', 'V', 'X', 'L', 'C', 'D', 'M').\n",
        "    It is guaranteed that s is a valid roman numeral in the range [1, 3999].\n"
      ],
      "metadata": {
        "id": "OiRXJC0r1n5i"
      }
    },
    {
      "cell_type": "markdown",
      "source": [
        "Explaining how to change roman numerals to numbers in mathematical way: https://www.cuemath.com/numbers/roman-numerals-conversion/"
      ],
      "metadata": {
        "id": "SgLOIOjy32kP"
      }
    },
    {
      "cell_type": "code",
      "execution_count": 10,
      "metadata": {
        "colab": {
          "base_uri": "https://localhost:8080/"
        },
        "id": "foYiPHEI0enN",
        "outputId": "96eeecbb-a020-4149-f213-f7620d51f63e"
      },
      "outputs": [
        {
          "output_type": "stream",
          "name": "stdout",
          "text": [
            "LVII\n",
            "57\n"
          ]
        }
      ],
      "source": [
        "#My solution:\n",
        "\n",
        "s= input().upper()\n",
        "\n",
        "vals= {\"I\" :1,       \n",
        "       \"V\":5,       \n",
        "       \"X\":10,       \n",
        "       \"L\":50,       \n",
        "       \"C\":100,       \n",
        "       \"D\":500,       \n",
        "       \"M\":1000,\n",
        "       \"O\":0}\n",
        "\n",
        "  \n",
        "list_s = list(s)\n",
        "sum = 0\n",
        "\n",
        "for i in range(len(list_s)):\n",
        "\n",
        "  #When any symbol is written before a larger symbol, it needs to be subtracted from the larger symbol.   \n",
        "  if i+1 < len(list_s) and vals[list_s[i]] < vals[list_s[i+1]] and list_s[i] != \"O\" :  \n",
        "    sum += (vals[list_s[i+1]] - vals[list_s[i]])\n",
        "    list_s[i+1] = \"O\"\n",
        "\n",
        "  #When any symbol is written after a larger symbol, it needs to be added to the larger symbol\n",
        "  else: \n",
        "    sum += vals[list_s[i]]\n",
        "    \n",
        "print(sum)"
      ]
    },
    {
      "cell_type": "code",
      "source": [
        "# Trace the solution step by step\n",
        "\n",
        "s= input().upper()\n",
        "\n",
        "needs_convert = [\"IV\", \"IX\", \"XL\", \"XC\", \"CD\", \"CM\"]\n",
        "\n",
        "converting = {\"IV\":\"A\",\n",
        "              \"IX\":\"B\",\n",
        "              \"XL\":\"C\",\n",
        "              \"XC\":\"E\",\n",
        "              \"CD\":\"F\", \n",
        "              \"CM\":\"G\"}\n",
        "vals= {\"I\" :1,       \n",
        "       \"V\":5,       \n",
        "       \"X\":10,       \n",
        "       \"L\":50,       \n",
        "       \"C\":100,       \n",
        "       \"D\":500,       \n",
        "       \"M\":1000,\n",
        "       \"O\":0}\n",
        "\n",
        "  \n",
        "list_s = list(s)\n",
        "sum = 0\n",
        "\n",
        "for i in range(len(list_s)):\n",
        "\n",
        "  if i+1 < len(list_s) :\n",
        "    if vals[list_s[i]] < vals[list_s[i+1]] and list_s[i] != \"O\":\n",
        "      print(\"Loop_1\")    \n",
        "      sum += (vals[list_s[i+1]] - vals[list_s[i]])\n",
        "      list_s[i+1] = \"O\"\n",
        "      print(list_s)\n",
        "      print(\"sum\",sum, \",i\", vals[list_s[i]] , \", i+1\",vals[list_s[i+1]])     \n",
        "      print(\"\")\n",
        "\n",
        "    else:\n",
        "      print(i,\"loop___2\")\n",
        "      sum += vals[list_s[i]]\n",
        "      print(list_s)\n",
        "      print(\"sum\",sum, \",i\", vals[list_s[i]] , \", i+1\",vals[list_s[i+1]])\n",
        "      print(\"\")\n",
        "print(sum)\n"
      ],
      "metadata": {
        "colab": {
          "base_uri": "https://localhost:8080/"
        },
        "id": "V9fFzmtY1DTQ",
        "outputId": "63942bb0-e232-4bdc-a434-7b1c3a6bc6ce"
      },
      "execution_count": 7,
      "outputs": [
        {
          "output_type": "stream",
          "name": "stdout",
          "text": [
            "MCMXCIV\n",
            "0 loop___2\n",
            "['M', 'C', 'M', 'X', 'C', 'I', 'V']\n",
            "sum 1000 ,i 1000 , i+1 100\n",
            "\n",
            "Loop_1\n",
            "['M', 'C', 'O', 'X', 'C', 'I', 'V']\n",
            "sum 1900 ,i 100 , i+1 0\n",
            "\n",
            "2 loop___2\n",
            "['M', 'C', 'O', 'X', 'C', 'I', 'V']\n",
            "sum 1900 ,i 0 , i+1 10\n",
            "\n",
            "Loop_1\n",
            "['M', 'C', 'O', 'X', 'O', 'I', 'V']\n",
            "sum 1990 ,i 10 , i+1 0\n",
            "\n",
            "4 loop___2\n",
            "['M', 'C', 'O', 'X', 'O', 'I', 'V']\n",
            "sum 1990 ,i 0 , i+1 1\n",
            "\n",
            "Loop_1\n",
            "['M', 'C', 'O', 'X', 'O', 'I', 'O']\n",
            "sum 1994 ,i 1 , i+1 0\n",
            "\n",
            "1994\n"
          ]
        }
      ]
    }
  ]
}