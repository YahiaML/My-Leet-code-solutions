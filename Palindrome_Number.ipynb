{
  "nbformat": 4,
  "nbformat_minor": 0,
  "metadata": {
    "colab": {
      "name": "Palindrome Number.ipynb",
      "provenance": [],
      "authorship_tag": "ABX9TyMtnWY0FFCUMFoXrY9MoqJ3",
      "include_colab_link": true
    },
    "kernelspec": {
      "name": "python3",
      "display_name": "Python 3"
    },
    "language_info": {
      "name": "python"
    }
  },
  "cells": [
    {
      "cell_type": "markdown",
      "metadata": {
        "id": "view-in-github",
        "colab_type": "text"
      },
      "source": [
        "<a href=\"https://colab.research.google.com/github/YahiaML/My-Leet-code-solutions/blob/main/Palindrome_Number.ipynb\" target=\"_parent\"><img src=\"https://colab.research.google.com/assets/colab-badge.svg\" alt=\"Open In Colab\"/></a>"
      ]
    },
    {
      "cell_type": "code",
      "execution_count": null,
      "metadata": {
        "id": "ioCsPKPB0wO4"
      },
      "outputs": [],
      "source": [
        "x = 121\n",
        "\n",
        "if list(str(x)) == list(str(x))[::-1]:\n",
        "  print(True)\n",
        "else:\n",
        "  print(False)"
      ]
    }
  ]
}